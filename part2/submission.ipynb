{
 "cells": [
  {
   "cell_type": "code",
   "execution_count": null,
   "metadata": {},
   "outputs": [],
   "source": [
    "\"\"\"\n",
    "SELECT MAX(a.author_name) AS Author, count(a.author_id) AS \"Papers since 2017-05-14\"\n",
    "FROM author a \n",
    "LEFT JOIN authored ad ON ad.author_id = a.author_id \n",
    "LEFT JOIN paper p ON p.paper_id = ad.paper_id\n",
    "WHERE p.date_published > '2017-05-14'\n",
    "GROUP BY a.author_id\n",
    "ORDER BY \"Papers since 2017-05-14\" DESC;\n",
    "\n",
    "Description: number of papers published by each professor\n",
    "    since May 14th 2017 (my birthday!). Ordered from most\n",
    "    number of papers published to least.\n",
    "\"\"\""
   ]
  },
  {
   "cell_type": "code",
   "execution_count": 2,
   "metadata": {},
   "outputs": [
    {
     "data": {
      "text/plain": [
       "'\\nWITH colaborations (paper_id, num_authors) AS (\\n    SELECT p.paper_id, count(a.author_id) AS num_authors\\n    FROM paper p \\n    LEFT JOIN authored ad ON p.paper_id = ad.paper_id\\n    LEFT JOIN author a on ad.author_id = a.author_id\\n    GROUP BY p.paper_id HAVING count(a.author_id) > 1\\n    ORDER BY num_authors DESC\\n)\\nSELECT * FROM colaborations\\nlimit 10;\\n<To finish>\\n<To finish>\\n\\nDescription: number of papers published with another\\n    professor in the database as a coauthor (number of collaborations). \\n    Ordered from most collaborations to the least.\\n'"
      ]
     },
     "execution_count": 2,
     "metadata": {},
     "output_type": "execute_result"
    }
   ],
   "source": [
    "\"\"\"\n",
    "WITH colaborations (paper_id, num_authors) AS (\n",
    "    SELECT p.paper_id, count(a.author_id) AS num_authors\n",
    "    FROM paper p \n",
    "    LEFT JOIN authored ad ON p.paper_id = ad.paper_id\n",
    "    LEFT JOIN author a on ad.author_id = a.author_id\n",
    "    GROUP BY p.paper_id HAVING count(a.author_id) > 1\n",
    "    ORDER BY num_authors DESC\n",
    ")\n",
    "SELECT * FROM colaborations\n",
    "limit 10;\n",
    "<To finish>\n",
    "<To finish>\n",
    "\n",
    "Description: number of papers published with another\n",
    "    professor in the database as a coauthor (number of collaborations). \n",
    "    Ordered from most collaborations to the least.\n",
    "\"\"\""
   ]
  },
  {
   "cell_type": "code",
   "execution_count": null,
   "metadata": {},
   "outputs": [],
   "source": []
  }
 ],
 "metadata": {
  "kernelspec": {
   "display_name": ".venv",
   "language": "python",
   "name": "python3"
  },
  "language_info": {
   "codemirror_mode": {
    "name": "ipython",
    "version": 3
   },
   "file_extension": ".py",
   "mimetype": "text/x-python",
   "name": "python",
   "nbconvert_exporter": "python",
   "pygments_lexer": "ipython3",
   "version": "3.11.4"
  }
 },
 "nbformat": 4,
 "nbformat_minor": 2
}
