{
 "cells": [
  {
   "cell_type": "markdown",
   "metadata": {},
   "source": [
    "## Intro. Databases Project Part 2\n",
    "### Gabriel Guerra Trigo(ggt2112) and Ritwik Goel(rg3546)\n",
    "\n",
    "1. Name and UNI of both teammates: Gabriel Guerra Trigo(ggt2112), Ritwik Goel(rg3546)\n",
    "2. UNI used to identify database: ggt2112\n",
    "3. Queries: shown below"
   ]
  },
  {
   "cell_type": "code",
   "execution_count": null,
   "metadata": {},
   "outputs": [],
   "source": [
    "\"\"\"\n",
    "SELECT MAX(a.author_name) AS Author, count(a.author_id) \n",
    "AS \"Papers since 2017-05-14\"\n",
    "FROM author a \n",
    "LEFT JOIN authored ad ON ad.author_id = a.author_id \n",
    "LEFT JOIN paper p ON p.paper_id = ad.paper_id\n",
    "WHERE p.date_published > '2017-05-14'\n",
    "GROUP BY a.author_id\n",
    "ORDER BY \"Papers since 2017-05-14\" DESC;\n",
    "\n",
    "Description: number of papers published by each professor\n",
    "    since May 14th 2017. Ordered from most\n",
    "    number of papers published to least.\n",
    "\"\"\""
   ]
  },
  {
   "cell_type": "code",
   "execution_count": null,
   "metadata": {},
   "outputs": [],
   "source": [
    "\"\"\"\n",
    "WITH colaborations (paper_id, num_authors) AS (\n",
    "    SELECT p.paper_id, count(a.author_id) AS num_authors\n",
    "    FROM paper p \n",
    "    LEFT JOIN authored ad ON p.paper_id = ad.paper_id\n",
    "    LEFT JOIN author a on ad.author_id = a.author_id\n",
    "    GROUP BY p.paper_id HAVING count(a.author_id) > 1\n",
    "    ORDER BY num_authors DESC\n",
    ")\n",
    "SELECT ad.author_id, MAX(a.author_name), COUNT(colaborations.paper_id)\n",
    "FROM colaborations\n",
    "LEFT JOIN Authored ad on colaborations.paper_id = ad.paper_id\n",
    "LEFT JOIN Author a on a.author_id = ad.author_id\n",
    "GROUP BY ad.author_id\n",
    "ORDER BY COUNT(colaborations.paper_id) DESC;\n",
    "\n",
    "Description: number of papers published with another\n",
    "    professor in the database as a coauthor (number of collaborations). \n",
    "    Ordered from most collaborations to the least.\n",
    "\"\"\""
   ]
  },
  {
   "cell_type": "code",
   "execution_count": null,
   "metadata": {},
   "outputs": [],
   "source": [
    "\"\"\"\n",
    "SELECT publication_name, COUNT(publication_name) FROM Paper\n",
    "GROUP BY publication_name\n",
    "ORDER BY COUNT(publication_name) DESC\n",
    "LIMIT 10;\n",
    "\n",
    "Description: top 10 publications where the most number of \n",
    "    papers in the database were published. Ordered from most\n",
    "    papers published to least.\n",
    "\"\"\""
   ]
  }
 ],
 "metadata": {
  "kernelspec": {
   "display_name": ".venv",
   "language": "python",
   "name": "python3"
  },
  "language_info": {
   "codemirror_mode": {
    "name": "ipython",
    "version": 3
   },
   "file_extension": ".py",
   "mimetype": "text/x-python",
   "name": "python",
   "nbconvert_exporter": "python",
   "pygments_lexer": "ipython3",
   "version": "3.11.4"
  }
 },
 "nbformat": 4,
 "nbformat_minor": 2
}
